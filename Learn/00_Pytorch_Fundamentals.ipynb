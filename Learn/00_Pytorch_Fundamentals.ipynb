{
  "nbformat": 4,
  "nbformat_minor": 0,
  "metadata": {
    "colab": {
      "provenance": [],
      "toc_visible": true,
      "gpuType": "T4",
      "authorship_tag": "ABX9TyNWxIqAwetnSn23Lo972wtv",
      "include_colab_link": true
    },
    "kernelspec": {
      "name": "python3",
      "display_name": "Python 3"
    },
    "language_info": {
      "name": "python"
    },
    "accelerator": "GPU"
  },
  "cells": [
    {
      "cell_type": "markdown",
      "metadata": {
        "id": "view-in-github",
        "colab_type": "text"
      },
      "source": [
        "<a href=\"https://colab.research.google.com/github/jobissjo/Pytorch-Learning/blob/main/Learn/00_Pytorch_Fundamentals.ipynb\" target=\"_parent\"><img src=\"https://colab.research.google.com/assets/colab-badge.svg\" alt=\"Open In Colab\"/></a>"
      ]
    },
    {
      "cell_type": "code",
      "execution_count": null,
      "metadata": {
        "id": "tmlJYd9K62hN",
        "colab": {
          "base_uri": "https://localhost:8080/",
          "height": 36
        },
        "outputId": "f7438643-3905-434f-b6c8-762306f5bb0f"
      },
      "outputs": [
        {
          "output_type": "execute_result",
          "data": {
            "text/plain": [
              "'2.5.1+cu124'"
            ],
            "application/vnd.google.colaboratory.intrinsic+json": {
              "type": "string"
            }
          },
          "metadata": {},
          "execution_count": 32
        }
      ],
      "source": [
        "import torch\n",
        "torch.__version__"
      ]
    },
    {
      "cell_type": "markdown",
      "source": [
        "# Introduction to Tensors"
      ],
      "metadata": {
        "id": "lMTvGjwX_MKY"
      }
    },
    {
      "cell_type": "code",
      "source": [
        "# @title  Dimensions of tensor\n",
        "\n",
        "# tensor is a scalar, vector,multi-dimensional matrix containing elements of a single data type\n",
        "\n",
        "# bar simple, how many [] brackets in outer is how many dimensions\n",
        "\n",
        "import torch\n",
        "scalar = torch.tensor(7)\n",
        "print(\"scalar:\", scalar, 'dimension:', scalar.ndim)\n",
        "\n",
        "vector = torch.tensor([1,2,3])\n",
        "print(\"vector:\", vector, 'dimension:', vector.ndim)\n",
        "\n",
        "MATRIX = torch.tensor([[1,2,3],[4,5,6]])\n",
        "print(\"MATRIX:\", MATRIX, 'dimension:', MATRIX.ndim)\n",
        "\n",
        "TENSOR = torch.tensor([[[1,2,3],[4,5,6]],[[7,8,9],[10,11,12]]])\n",
        "print(\"TENSOR:\", TENSOR, 'dimension:', TENSOR.ndim)\n"
      ],
      "metadata": {
        "colab": {
          "base_uri": "https://localhost:8080/"
        },
        "id": "__4CfqCA-_a2",
        "outputId": "5f307f5e-ce83-484d-b6e7-4b5dfd185598"
      },
      "execution_count": null,
      "outputs": [
        {
          "output_type": "stream",
          "name": "stdout",
          "text": [
            "scalar: tensor(7) dimension: 0\n",
            "vector: tensor([1, 2, 3]) dimension: 1\n",
            "MATRIX: tensor([[1, 2, 3],\n",
            "        [4, 5, 6]]) dimension: 2\n",
            "TENSOR: tensor([[[ 1,  2,  3],\n",
            "         [ 4,  5,  6]],\n",
            "\n",
            "        [[ 7,  8,  9],\n",
            "         [10, 11, 12]]]) dimension: 3\n"
          ]
        }
      ]
    },
    {
      "cell_type": "code",
      "source": [
        "# @title ### Shape and size of tensors\n",
        "\n",
        "print(\"Scalar Shape:\", scalar.shape, \"| Scalar Size:\", scalar.size())\n",
        "print(\"Vector Shape:\", vector.shape, \"| Vector Size:\", vector.size())\n",
        "print(\"Matrix Shape:\", MATRIX.shape, \"| Matrix Size:\", MATRIX.size())\n",
        "print(\"Tensor Shape:\", TENSOR.shape, \"| Tensor Size:\", TENSOR.size())"
      ],
      "metadata": {
        "colab": {
          "base_uri": "https://localhost:8080/"
        },
        "id": "AvCzmfNk_mnH",
        "outputId": "26846b1a-dbab-43a0-d5f5-e23809842859"
      },
      "execution_count": null,
      "outputs": [
        {
          "output_type": "stream",
          "name": "stdout",
          "text": [
            "Scalar Shape: torch.Size([]) | Scalar Size: torch.Size([])\n",
            "Vector Shape: torch.Size([3]) | Vector Size: torch.Size([3])\n",
            "Matrix Shape: torch.Size([2, 3]) | Matrix Size: torch.Size([2, 3])\n",
            "Tensor Shape: torch.Size([2, 2, 3]) | Tensor Size: torch.Size([2, 2, 3])\n"
          ]
        }
      ]
    },
    {
      "cell_type": "code",
      "source": [
        "# @title ### Random\n",
        "# - we need to specify size in tuple, generate a number in given size [between 0-1 values]\n",
        "random_number1 = torch.rand((2,3))\n",
        "print('radom_number:', random_number1)\n",
        "\n",
        "# range of\n",
        "randon_int_number = torch.randint(0,100, size=(2,3))\n",
        "print('randon_int_number:', randon_int_number)"
      ],
      "metadata": {
        "colab": {
          "base_uri": "https://localhost:8080/"
        },
        "id": "d7qpM9Y9F2-u",
        "outputId": "3e6d8140-0370-4973-a550-b7adeb9c3314"
      },
      "execution_count": null,
      "outputs": [
        {
          "output_type": "stream",
          "name": "stdout",
          "text": [
            "radom_number: tensor([[0.8694, 0.5677, 0.7411],\n",
            "        [0.4294, 0.8854, 0.5739]])\n",
            "randon_int_number: tensor([[67,  6, 49],\n",
            "        [76, 73, 11]])\n"
          ]
        }
      ]
    },
    {
      "cell_type": "markdown",
      "source": [
        "### why we need a random generating number?\n",
        "\n",
        "\n",
        "*   Used to create random data for temporary testing\n",
        "*   Adding randomness to datasets (e.g., shuffling data, we usually shuffle the data in training stage for better prediction).\n",
        "\n"
      ],
      "metadata": {
        "id": "ir-vSJnPHjUm"
      }
    },
    {
      "cell_type": "code",
      "source": [
        "# @title ### Zeros and ones\n",
        "\n",
        "# just generating zeros and one with alredy existing dim\n",
        "\n",
        "zeros = torch.zeros(size=random_number1.shape) # generating same shape of zero\n",
        "print('zeros:', zeros)\n",
        "\n",
        "ones = torch.ones(size=random_number1.shape) # generating same shape of zero\n",
        "print('ones:', ones)"
      ],
      "metadata": {
        "colab": {
          "base_uri": "https://localhost:8080/"
        },
        "id": "NNwS5hTCIj3t",
        "outputId": "f4e474c4-5544-4b53-b4e2-ffbe6e6d9d03"
      },
      "execution_count": null,
      "outputs": [
        {
          "output_type": "stream",
          "name": "stdout",
          "text": [
            "zeros: tensor([[0., 0., 0.],\n",
            "        [0., 0., 0.]])\n",
            "ones: tensor([[1., 1., 1.],\n",
            "        [1., 1., 1.]])\n"
          ]
        }
      ]
    },
    {
      "cell_type": "code",
      "source": [
        "# @title ### Arange and Alike\n",
        "\n",
        "even_numbers = torch.arange(start=0, end=100, step=2)\n",
        "print('even_numbers:', even_numbers) # same like python's 'range' function\n",
        "print('even_numbers_count---:', even_numbers.size())\n",
        "\n",
        "print('\\n\\n')\n",
        "# Alike\n",
        "zeros_like = torch.zeros_like(input=even_numbers)\n",
        "print('zeros_like:', zeros_like)\n",
        "print('zeros_like_count--:', even_numbers.size())"
      ],
      "metadata": {
        "colab": {
          "base_uri": "https://localhost:8080/"
        },
        "id": "qCEfdak4JbyM",
        "outputId": "c636a2dc-5349-4152-9f57-58e9f8bbc167"
      },
      "execution_count": null,
      "outputs": [
        {
          "output_type": "stream",
          "name": "stdout",
          "text": [
            "even_numbers: tensor([ 0,  2,  4,  6,  8, 10, 12, 14, 16, 18, 20, 22, 24, 26, 28, 30, 32, 34,\n",
            "        36, 38, 40, 42, 44, 46, 48, 50, 52, 54, 56, 58, 60, 62, 64, 66, 68, 70,\n",
            "        72, 74, 76, 78, 80, 82, 84, 86, 88, 90, 92, 94, 96, 98])\n",
            "even_numbers_count---: torch.Size([50])\n",
            "\n",
            "\n",
            "\n",
            "zeros_like: tensor([0, 0, 0, 0, 0, 0, 0, 0, 0, 0, 0, 0, 0, 0, 0, 0, 0, 0, 0, 0, 0, 0, 0, 0,\n",
            "        0, 0, 0, 0, 0, 0, 0, 0, 0, 0, 0, 0, 0, 0, 0, 0, 0, 0, 0, 0, 0, 0, 0, 0,\n",
            "        0, 0])\n",
            "zeros_like_count--: torch.Size([50])\n"
          ]
        }
      ]
    },
    {
      "cell_type": "markdown",
      "source": [
        "# Data Types -\n",
        "\n",
        "[Documentation](https://pytorch.org/docs/stable/tensors.html)\n",
        "\n"
      ],
      "metadata": {
        "id": "wVaxyCTVKilo"
      }
    },
    {
      "cell_type": "markdown",
      "source": [
        "\n",
        "## Getting information from tensors\n",
        "1. Tensors not right datatype - to do get datatype from a tensor, can use tensor.dtype\n",
        "2. Tensors not right shape - to get shape from a tensor, can use tensor.shape\n",
        "3. Tensors not on the right device - to get device from a tensor, can use tensor.device"
      ],
      "metadata": {
        "id": "yBmg_51wwy5z"
      }
    },
    {
      "cell_type": "code",
      "source": [
        "rand_tensor = torch.rand(size=(4,5))\n",
        "print(f\"Data type: {rand_tensor.dtype}, Shape: {rand_tensor.shape} , Device: {rand_tensor.device}\")\n",
        "\n",
        "rand_int32_tensor = torch.tensor([1,2,3], dtype=torch.int32)\n",
        "print(f\"Data type: {rand_int32_tensor.dtype}, Shape: {rand_int32_tensor.shape} , Device: {rand_int32_tensor.device}\")"
      ],
      "metadata": {
        "colab": {
          "base_uri": "https://localhost:8080/"
        },
        "id": "pMlG0JVOxt-L",
        "outputId": "1a255960-d242-4b52-ff48-25df1d197c47"
      },
      "execution_count": null,
      "outputs": [
        {
          "output_type": "stream",
          "name": "stdout",
          "text": [
            "Data type: torch.float32, Shape: torch.Size([4, 5]) , Device: cpu\n",
            "Data type: torch.int32, Shape: torch.Size([3]) , Device: cpu\n"
          ]
        }
      ]
    },
    {
      "cell_type": "markdown",
      "source": [
        "## Manipulating Tensors\n"
      ],
      "metadata": {
        "id": "TVfAysAXxRn5"
      }
    },
    {
      "cell_type": "code",
      "source": [
        "# @title Normal operations\n",
        "\n",
        "my_tensor = torch.tensor([1,2,3])\n",
        "\n",
        "print(\"Before Operation Tensor:\", my_tensor)\n",
        "\n",
        "print(\"Addition               :\", my_tensor + 10)\n",
        "print(\"Subtraction            :\", my_tensor - 10)\n",
        "print(\"Multiplication         :\", my_tensor * 10)\n",
        "print(\"Division               :\", my_tensor / 10)"
      ],
      "metadata": {
        "colab": {
          "base_uri": "https://localhost:8080/"
        },
        "id": "xds0hthSzqH8",
        "outputId": "528caa33-58a6-4d30-aae1-aa97a679e214"
      },
      "execution_count": null,
      "outputs": [
        {
          "output_type": "stream",
          "name": "stdout",
          "text": [
            "Before Operation Tensor: tensor([1, 2, 3])\n",
            "Addition               : tensor([11, 12, 13])\n",
            "Subtraction            : tensor([-9, -8, -7])\n",
            "Multiplication         : tensor([10, 20, 30])\n",
            "Division               : tensor([0.1000, 0.2000, 0.3000])\n"
          ]
        }
      ]
    },
    {
      "cell_type": "code",
      "source": [
        "# @title Inbuilt Functions\n",
        "\n",
        "print(\"Before Operation Tensor:\", my_tensor)\n",
        "\n",
        "print(\"Addition               :\", torch.add(my_tensor, 10))\n",
        "print(\"Subtraction            :\", torch.sub(my_tensor, 10))\n",
        "print(\"Multiplication         :\", torch.mul(my_tensor, 10))\n",
        "print(\"Division               :\", torch.div(my_tensor, 10))"
      ],
      "metadata": {
        "colab": {
          "base_uri": "https://localhost:8080/"
        },
        "id": "1UUzYsuO0HZv",
        "outputId": "33a85ef9-49ec-4a58-fa77-1270129c7d82"
      },
      "execution_count": null,
      "outputs": [
        {
          "output_type": "stream",
          "name": "stdout",
          "text": [
            "Before Operation Tensor: tensor([1, 2, 3])\n",
            "Addition               : tensor([11, 12, 13])\n",
            "Subtraction            : tensor([-9, -8, -7])\n",
            "Multiplication         : tensor([10, 20, 30])\n",
            "Division               : tensor([0.1000, 0.2000, 0.3000])\n"
          ]
        }
      ]
    },
    {
      "cell_type": "markdown",
      "source": [
        "### Matrix Multiplication"
      ],
      "metadata": {
        "id": "oli6N1ZF02zl"
      }
    },
    {
      "cell_type": "code",
      "source": [
        "# @title Time taken with pytorch method\n",
        "%%time\n",
        "\n",
        "my_tensor1 = torch.tensor([[1,2,3],[4,5,6]])\n",
        "my_tensor2 = torch.tensor([[7,8],[9,10],[11,12]])\n",
        "\n",
        "\n",
        "\n",
        "torch.matmul(my_tensor1, my_tensor2)"
      ],
      "metadata": {
        "colab": {
          "base_uri": "https://localhost:8080/"
        },
        "id": "Oos-QaFV06Jr",
        "outputId": "e572aada-02a4-4db7-ad3e-ec1329d114f3"
      },
      "execution_count": null,
      "outputs": [
        {
          "output_type": "stream",
          "name": "stdout",
          "text": [
            "CPU times: user 1.51 ms, sys: 95 µs, total: 1.6 ms\n",
            "Wall time: 9.6 ms\n"
          ]
        },
        {
          "output_type": "execute_result",
          "data": {
            "text/plain": [
              "tensor([[ 58,  64],\n",
              "        [139, 154]])"
            ]
          },
          "metadata": {},
          "execution_count": 12
        }
      ]
    },
    {
      "cell_type": "code",
      "source": [
        "%%time\n",
        "\n",
        "\n",
        "my_tensor1 @ my_tensor2"
      ],
      "metadata": {
        "colab": {
          "base_uri": "https://localhost:8080/"
        },
        "id": "O9nLZEyh7mXI",
        "outputId": "daf5e10d-0bb9-42bc-aa20-28d952293f06"
      },
      "execution_count": null,
      "outputs": [
        {
          "output_type": "stream",
          "name": "stdout",
          "text": [
            "CPU times: user 641 µs, sys: 0 ns, total: 641 µs\n",
            "Wall time: 557 µs\n"
          ]
        },
        {
          "output_type": "execute_result",
          "data": {
            "text/plain": [
              "tensor([[ 58,  64],\n",
              "        [139, 154]])"
            ]
          },
          "metadata": {},
          "execution_count": 13
        }
      ]
    },
    {
      "cell_type": "code",
      "source": [
        "# @title Time taken with normal python for loop\n",
        "%%time\n",
        "\n",
        "new_tensor = torch.zeros((2,2))\n",
        "for i in range(len(my_tensor1)):\n",
        "  for j in range(len(my_tensor2[0])):\n",
        "    for k in range(len(my_tensor2)):\n",
        "      new_tensor[i][j] += my_tensor1[i][k] * my_tensor2[k][j]\n",
        "\n",
        "print(new_tensor)"
      ],
      "metadata": {
        "colab": {
          "base_uri": "https://localhost:8080/"
        },
        "id": "fPdlFg9z5fZQ",
        "outputId": "e299b4aa-360d-4aec-a8ab-19f39acf99fa"
      },
      "execution_count": null,
      "outputs": [
        {
          "output_type": "stream",
          "name": "stdout",
          "text": [
            "tensor([[ 58.,  64.],\n",
            "        [139., 154.]])\n",
            "CPU times: user 905 µs, sys: 1.83 ms, total: 2.74 ms\n",
            "Wall time: 2.69 ms\n"
          ]
        }
      ]
    },
    {
      "cell_type": "code",
      "source": [
        "import numpy as np\n"
      ],
      "metadata": {
        "id": "mKmN0fLk6kK2"
      },
      "execution_count": null,
      "outputs": []
    },
    {
      "cell_type": "code",
      "source": [
        "# @title Time taken with numpy\n",
        "%%time\n",
        "\n",
        "arr1 = np.array([[1,2,3],[4,5,6]])\n",
        "arr2 = np.array([[7,8],[9,10],[11,12]])\n",
        "\n",
        "np.matmul(arr1, arr2)"
      ],
      "metadata": {
        "colab": {
          "base_uri": "https://localhost:8080/"
        },
        "id": "DqzCmF1S6gxm",
        "outputId": "ebc10203-350d-4a7a-f1a9-687b6be3dedb"
      },
      "execution_count": null,
      "outputs": [
        {
          "output_type": "stream",
          "name": "stdout",
          "text": [
            "CPU times: user 106 µs, sys: 17 µs, total: 123 µs\n",
            "Wall time: 130 µs\n"
          ]
        },
        {
          "output_type": "execute_result",
          "data": {
            "text/plain": [
              "array([[ 58,  64],\n",
              "       [139, 154]])"
            ]
          },
          "metadata": {},
          "execution_count": 16
        }
      ]
    },
    {
      "cell_type": "code",
      "source": [
        "# @title Matrix multiplication with same array with transpose\n",
        "\n",
        "my_tensor_new = torch.randint(1,10,size=(2,3))\n",
        "print(\"New Tensor Shape:\", my_tensor_new.shape)\n",
        "print(\"New Tensor Transpose Shape:\", my_tensor_new.T.shape)\n",
        "\n",
        "# If we transpose, always diagonals are same always\n",
        "\n",
        "my_tensor_new @ my_tensor_new.T"
      ],
      "metadata": {
        "colab": {
          "base_uri": "https://localhost:8080/"
        },
        "id": "IbQo6Ihb8bJu",
        "outputId": "94e229d7-ebbc-4f45-a039-d4a7415af626"
      },
      "execution_count": null,
      "outputs": [
        {
          "output_type": "stream",
          "name": "stdout",
          "text": [
            "New Tensor Shape: torch.Size([2, 3])\n",
            "New Tensor Transpose Shape: torch.Size([3, 2])\n"
          ]
        },
        {
          "output_type": "execute_result",
          "data": {
            "text/plain": [
              "tensor([[77, 40],\n",
              "        [40, 56]])"
            ]
          },
          "metadata": {},
          "execution_count": 17
        }
      ]
    },
    {
      "cell_type": "markdown",
      "source": [
        "# Finding Max, Min, Mean, sum"
      ],
      "metadata": {
        "id": "pmW2vTIUD9s_"
      }
    },
    {
      "cell_type": "code",
      "source": [
        "numbers = torch.arange(0, 101, 5)\n",
        "numbers\n",
        "\n",
        "print(\"Max:\", torch.max(numbers), numbers.max())\n",
        "print(\"MIN:\", torch.min(numbers), numbers.min())\n",
        "\n",
        "print(\"Sum:\", torch.sum(numbers), numbers.sum())\n",
        "\n",
        "print(\"Mean:\", torch.mean(numbers.type(torch.float64)), numbers.type(torch.float64).mean())"
      ],
      "metadata": {
        "colab": {
          "base_uri": "https://localhost:8080/"
        },
        "id": "9oGuHOE9EM4D",
        "outputId": "fa168f29-8e22-484b-9bba-aab8992efadb"
      },
      "execution_count": null,
      "outputs": [
        {
          "output_type": "stream",
          "name": "stdout",
          "text": [
            "Max: tensor(100) tensor(100)\n",
            "MIN: tensor(0) tensor(0)\n",
            "Sum: tensor(1050) tensor(1050)\n",
            "Mean: tensor(50., dtype=torch.float64) tensor(50., dtype=torch.float64)\n"
          ]
        }
      ]
    },
    {
      "cell_type": "code",
      "source": [
        "# @title position of min, max\n",
        "\n",
        "print(\"Max POSITION:\", torch.argmax(numbers), numbers.argmax())\n",
        "print(\"MIN POSITION:\", torch.argmin(numbers), numbers.argmin())"
      ],
      "metadata": {
        "colab": {
          "base_uri": "https://localhost:8080/"
        },
        "id": "ENrhhabhFfDH",
        "outputId": "323502de-67a3-4bd9-e16a-fd450e23af05"
      },
      "execution_count": null,
      "outputs": [
        {
          "output_type": "stream",
          "name": "stdout",
          "text": [
            "Max POSITION: tensor(20) tensor(20)\n",
            "MIN POSITION: tensor(0) tensor(0)\n"
          ]
        }
      ]
    },
    {
      "cell_type": "markdown",
      "source": [
        "# Reshaping\n",
        "\n",
        "\n",
        "\n",
        "*   Reshapping - reshape an input to defined shape\n",
        "\n",
        "    *   if tensor have 8 elements, reshapping size need to equally splitabble (4*2) (2*4) like that\n",
        "\n",
        "*   Stacking - combine multiple tensor h-stact(horizaontal), v-stack (vertical)\n",
        "*   Sequeezing - remove all 1 dim from tensor\n",
        "*   Unsequeezing - add 1 dim to a target tensor\n",
        "\n",
        "\n"
      ],
      "metadata": {
        "id": "xfqOkYlnF-_2"
      }
    },
    {
      "cell_type": "code",
      "source": [
        "one_d_shape = torch.arange(1,11)\n",
        "print(one_d_shape, 'Shape::', one_d_shape.shape)\n",
        "\n",
        "reshaped_tensor = one_d_shape.reshape(5,2)\n",
        "print(reshaped_tensor, 'Shape::', reshaped_tensor.shape)"
      ],
      "metadata": {
        "colab": {
          "base_uri": "https://localhost:8080/"
        },
        "id": "KoWh3IPVIwLM",
        "outputId": "3814625b-5388-418b-8756-8c07963d11a9"
      },
      "execution_count": null,
      "outputs": [
        {
          "output_type": "stream",
          "name": "stdout",
          "text": [
            "tensor([ 1,  2,  3,  4,  5,  6,  7,  8,  9, 10]) Shape:: torch.Size([10])\n",
            "tensor([[ 1,  2],\n",
            "        [ 3,  4],\n",
            "        [ 5,  6],\n",
            "        [ 7,  8],\n",
            "        [ 9, 10]]) Shape:: torch.Size([5, 2])\n"
          ]
        }
      ]
    },
    {
      "cell_type": "code",
      "source": [
        "# view will share the same memory address, change in anyone affect the both\n",
        "copyied_d_shape = one_d_shape.view(5,2)\n",
        "copyied_d_shape"
      ],
      "metadata": {
        "colab": {
          "base_uri": "https://localhost:8080/"
        },
        "id": "TqQg7mXuJozA",
        "outputId": "9901efb2-ea9d-4846-a6fa-2d534ba4ebfa"
      },
      "execution_count": null,
      "outputs": [
        {
          "output_type": "execute_result",
          "data": {
            "text/plain": [
              "tensor([[ 1,  2],\n",
              "        [ 3,  4],\n",
              "        [ 5,  6],\n",
              "        [ 7,  8],\n",
              "        [ 9, 10]])"
            ]
          },
          "metadata": {},
          "execution_count": 21
        }
      ]
    },
    {
      "cell_type": "code",
      "source": [
        "copyied_d_shape[0][0] = 2423\n",
        "copyied_d_shape, one_d_shape"
      ],
      "metadata": {
        "colab": {
          "base_uri": "https://localhost:8080/"
        },
        "id": "2ZetQrpGJztC",
        "outputId": "0c2096e0-799f-44eb-9fc8-f5d44202d124"
      },
      "execution_count": null,
      "outputs": [
        {
          "output_type": "execute_result",
          "data": {
            "text/plain": [
              "(tensor([[2423,    2],\n",
              "         [   3,    4],\n",
              "         [   5,    6],\n",
              "         [   7,    8],\n",
              "         [   9,   10]]),\n",
              " tensor([2423,    2,    3,    4,    5,    6,    7,    8,    9,   10]))"
            ]
          },
          "metadata": {},
          "execution_count": 22
        }
      ]
    },
    {
      "cell_type": "code",
      "source": [
        "# squeeze\n",
        "x = torch.zeros(2, 1, 2, 1, 2)\n",
        "print(x.size())\n",
        "torch.squeeze(x)\n"
      ],
      "metadata": {
        "colab": {
          "base_uri": "https://localhost:8080/"
        },
        "id": "kBYCWLxwMGkx",
        "outputId": "9dc412f0-1120-46bc-cfad-e707a06c217e"
      },
      "execution_count": null,
      "outputs": [
        {
          "output_type": "stream",
          "name": "stdout",
          "text": [
            "torch.Size([2, 1, 2, 1, 2])\n"
          ]
        },
        {
          "output_type": "execute_result",
          "data": {
            "text/plain": [
              "tensor([[[0., 0.],\n",
              "         [0., 0.]],\n",
              "\n",
              "        [[0., 0.],\n",
              "         [0., 0.]]])"
            ]
          },
          "metadata": {},
          "execution_count": 23
        }
      ]
    },
    {
      "cell_type": "code",
      "source": [
        "new_not_squeeze = torch.tensor([[1,2,3]])\n",
        "print(new_not_squeeze.shape)\n",
        "new_squeeze = new_not_squeeze.squeeze()\n",
        "print(new_squeeze.shape)"
      ],
      "metadata": {
        "colab": {
          "base_uri": "https://localhost:8080/"
        },
        "id": "vCrqQhxYM0f3",
        "outputId": "a4362e31-5f7a-476b-dae2-0bb17a35bf15"
      },
      "execution_count": null,
      "outputs": [
        {
          "output_type": "stream",
          "name": "stdout",
          "text": [
            "torch.Size([1, 3])\n",
            "torch.Size([3])\n"
          ]
        }
      ]
    },
    {
      "cell_type": "code",
      "source": [
        "# @title Permute\n",
        "\n",
        "# -- Returns a 'view' of the original tensor input with its dimensions permuted.\n",
        "\n",
        "random_tensor = torch.rand(size=(2,3,4))\n",
        "print(\"Tensor:\", rand_tensor,\"\\nSize  :\", random_tensor.shape)\n",
        "print(\"\\n\\n\")\n",
        "permuted_tensor = random_tensor.permute(2,0,1)\n",
        "print(\"PERMUTED Tensor:\\n\", permuted_tensor,\"\\nSize  :\", permuted_tensor.shape)"
      ],
      "metadata": {
        "colab": {
          "base_uri": "https://localhost:8080/"
        },
        "id": "jtyfEeFaNreN",
        "outputId": "4cc94557-5103-4791-cf5a-75f3f142bf8a"
      },
      "execution_count": null,
      "outputs": [
        {
          "output_type": "stream",
          "name": "stdout",
          "text": [
            "Tensor: tensor([[0.5575, 0.1046, 0.7791, 0.0219, 0.7035],\n",
            "        [0.6302, 0.9825, 0.0579, 0.9675, 0.5909],\n",
            "        [0.8109, 0.1922, 0.2243, 0.2081, 0.4161],\n",
            "        [0.2566, 0.5454, 0.9226, 0.4226, 0.9633]]) \n",
            "Size  : torch.Size([2, 3, 4])\n",
            "\n",
            "\n",
            "\n",
            "PERMUTED Tensor:\n",
            " tensor([[[0.7519, 0.6129, 0.4666],\n",
            "         [0.3114, 0.5682, 0.3663]],\n",
            "\n",
            "        [[0.5310, 0.6665, 0.9324],\n",
            "         [0.7208, 0.4495, 0.6332]],\n",
            "\n",
            "        [[0.3236, 0.8458, 0.5726],\n",
            "         [0.8007, 0.5603, 0.7023]],\n",
            "\n",
            "        [[0.2983, 0.6264, 0.3594],\n",
            "         [0.9221, 0.4626, 0.0626]]]) \n",
            "Size  : torch.Size([4, 2, 3])\n"
          ]
        }
      ]
    },
    {
      "cell_type": "markdown",
      "source": [
        "## Indexing"
      ],
      "metadata": {
        "id": "Hx7xZ1ugQDy_"
      }
    },
    {
      "cell_type": "code",
      "source": [
        "indexing_tensor = torch.arange(1,10).reshape(1,3,3)\n",
        "indexing_tensor"
      ],
      "metadata": {
        "colab": {
          "base_uri": "https://localhost:8080/"
        },
        "id": "awwxU0vxQFzb",
        "outputId": "88fe9326-07d1-47f5-c316-cd74f47b8610"
      },
      "execution_count": null,
      "outputs": [
        {
          "output_type": "execute_result",
          "data": {
            "text/plain": [
              "tensor([[[1, 2, 3],\n",
              "         [4, 5, 6],\n",
              "         [7, 8, 9]]])"
            ]
          },
          "metadata": {},
          "execution_count": 26
        }
      ]
    },
    {
      "cell_type": "code",
      "source": [
        "indexing_tensor[:,2:,2]"
      ],
      "metadata": {
        "colab": {
          "base_uri": "https://localhost:8080/"
        },
        "id": "e1OcX-ufQTSI",
        "outputId": "212f1009-bd9f-4b0f-de5d-90db16800f3d"
      },
      "execution_count": null,
      "outputs": [
        {
          "output_type": "execute_result",
          "data": {
            "text/plain": [
              "tensor([[9]])"
            ]
          },
          "metadata": {},
          "execution_count": 27
        }
      ]
    },
    {
      "cell_type": "markdown",
      "source": [
        "## Numpy Array"
      ],
      "metadata": {
        "id": "SKbteXTaSVq8"
      }
    },
    {
      "cell_type": "code",
      "source": [
        "import torch\n",
        "\n",
        "import numpy as np\n",
        "\n",
        "array = np.arange(1.0, 8.0)\n",
        "tensor = torch.from_numpy(array).type(torch.float32)\n",
        "array, tensor, tensor.dtype"
      ],
      "metadata": {
        "colab": {
          "base_uri": "https://localhost:8080/"
        },
        "id": "ifoNQ5dNSYfM",
        "outputId": "0e2282c6-ff8e-409c-8157-90787b625b4b"
      },
      "execution_count": null,
      "outputs": [
        {
          "output_type": "execute_result",
          "data": {
            "text/plain": [
              "(array([1., 2., 3., 4., 5., 6., 7.]),\n",
              " tensor([1., 2., 3., 4., 5., 6., 7.]),\n",
              " torch.float32)"
            ]
          },
          "metadata": {},
          "execution_count": 28
        }
      ]
    },
    {
      "cell_type": "code",
      "source": [
        "torch_tensor = torch.tensor([1,2,3])\n",
        "numpy_tensor = torch_tensor.numpy()\n",
        "torch_tensor, numpy_tensor.dtype"
      ],
      "metadata": {
        "colab": {
          "base_uri": "https://localhost:8080/"
        },
        "id": "NXkPojm3SkEI",
        "outputId": "923cba48-0d9a-4e62-ee84-d4d47ca444fa"
      },
      "execution_count": null,
      "outputs": [
        {
          "output_type": "execute_result",
          "data": {
            "text/plain": [
              "(tensor([1, 2, 3]), dtype('int64'))"
            ]
          },
          "metadata": {},
          "execution_count": 29
        }
      ]
    },
    {
      "cell_type": "markdown",
      "source": [
        "## Reproducability"
      ],
      "metadata": {
        "id": "SkSpiTNQUWpq"
      }
    },
    {
      "cell_type": "code",
      "source": [
        "# Sets the seed for generating random numbers on all devices. Returns a torch.Generator object.\n",
        "torch.manual_seed(42)\n",
        "radom_tensors = torch.rand(size=(4,3))\n",
        "radom_tensors"
      ],
      "metadata": {
        "colab": {
          "base_uri": "https://localhost:8080/"
        },
        "id": "6qvzDPmJUbHD",
        "outputId": "b5a4a23b-9582-499b-9d61-25b948897908"
      },
      "execution_count": null,
      "outputs": [
        {
          "output_type": "execute_result",
          "data": {
            "text/plain": [
              "tensor([[0.8823, 0.9150, 0.3829],\n",
              "        [0.9593, 0.3904, 0.6009],\n",
              "        [0.2566, 0.7936, 0.9408],\n",
              "        [0.1332, 0.9346, 0.5936]])"
            ]
          },
          "metadata": {},
          "execution_count": 30
        }
      ]
    },
    {
      "cell_type": "code",
      "source": [
        "!nvidia-smi"
      ],
      "metadata": {
        "colab": {
          "base_uri": "https://localhost:8080/"
        },
        "id": "7Nj4VX4nWOgh",
        "outputId": "93790fdf-9da0-40e8-d58d-2140cf624762"
      },
      "execution_count": null,
      "outputs": [
        {
          "output_type": "stream",
          "name": "stdout",
          "text": [
            "Sun Feb  2 11:12:54 2025       \n",
            "+-----------------------------------------------------------------------------------------+\n",
            "| NVIDIA-SMI 550.54.15              Driver Version: 550.54.15      CUDA Version: 12.4     |\n",
            "|-----------------------------------------+------------------------+----------------------+\n",
            "| GPU  Name                 Persistence-M | Bus-Id          Disp.A | Volatile Uncorr. ECC |\n",
            "| Fan  Temp   Perf          Pwr:Usage/Cap |           Memory-Usage | GPU-Util  Compute M. |\n",
            "|                                         |                        |               MIG M. |\n",
            "|=========================================+========================+======================|\n",
            "|   0  Tesla T4                       Off |   00000000:00:04.0 Off |                    0 |\n",
            "| N/A   40C    P8              9W /   70W |       2MiB /  15360MiB |      0%      Default |\n",
            "|                                         |                        |                  N/A |\n",
            "+-----------------------------------------+------------------------+----------------------+\n",
            "                                                                                         \n",
            "+-----------------------------------------------------------------------------------------+\n",
            "| Processes:                                                                              |\n",
            "|  GPU   GI   CI        PID   Type   Process name                              GPU Memory |\n",
            "|        ID   ID                                                               Usage      |\n",
            "|=========================================================================================|\n",
            "|  No running processes found                                                             |\n",
            "+-----------------------------------------------------------------------------------------+\n"
          ]
        }
      ]
    },
    {
      "cell_type": "markdown",
      "source": [],
      "metadata": {
        "id": "4Ae2QPnzWOSx"
      }
    },
    {
      "cell_type": "code",
      "source": [
        "import torch\n",
        "\n",
        "device = 'cuda' if torch.cuda.is_available() else 'cpu'"
      ],
      "metadata": {
        "id": "WF5IqFJAW6Lk"
      },
      "execution_count": null,
      "outputs": []
    },
    {
      "cell_type": "code",
      "source": [
        "tensor_mat = torch.tensor([[1,2,3],[4,5,6]], device=device)\n",
        "tensor_mat"
      ],
      "metadata": {
        "colab": {
          "base_uri": "https://localhost:8080/"
        },
        "id": "3L1cQlsSXUdo",
        "outputId": "a0859c86-e13a-4cf5-9708-ed6e2ef35780"
      },
      "execution_count": null,
      "outputs": [
        {
          "output_type": "execute_result",
          "data": {
            "text/plain": [
              "tensor([[1, 2, 3],\n",
              "        [4, 5, 6]], device='cuda:0')"
            ]
          },
          "metadata": {},
          "execution_count": 37
        }
      ]
    }
  ]
}