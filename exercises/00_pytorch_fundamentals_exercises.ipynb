{
  "nbformat": 4,
  "nbformat_minor": 0,
  "metadata": {
    "colab": {
      "name": "00_pytorch_fundamentals_exercises.ipynb",
      "provenance": [],
      "include_colab_link": true
    },
    "kernelspec": {
      "name": "python3",
      "display_name": "Python 3"
    },
    "language_info": {
      "name": "python"
    },
    "accelerator": "GPU"
  },
  "cells": [
    {
      "cell_type": "markdown",
      "metadata": {
        "id": "view-in-github",
        "colab_type": "text"
      },
      "source": [
        "<a href=\"https://colab.research.google.com/github/jobissjo/Pytorch-Learning/blob/main/exercises/00_pytorch_fundamentals_exercises.ipynb\" target=\"_parent\"><img src=\"https://colab.research.google.com/assets/colab-badge.svg\" alt=\"Open In Colab\"/></a>"
      ]
    },
    {
      "cell_type": "markdown",
      "source": [
        "# 00. PyTorch Fundamentals Exercises\n",
        "\n",
        "### 1. Documentation reading\n",
        "\n",
        "A big part of deep learning (and learning to code in general) is getting familiar with the documentation of a certain framework you're using. We'll be using the PyTorch documentation a lot throughout the rest of this course. So I'd recommend spending 10-minutes reading the following (it's okay if you don't get some things for now, the focus is not yet full understanding, it's awareness):\n",
        "  * The documentation on [`torch.Tensor`](https://pytorch.org/docs/stable/tensors.html#torch-tensor).\n",
        "  * The documentation on [`torch.cuda`](https://pytorch.org/docs/master/notes/cuda.html#cuda-semantics).\n",
        "\n"
      ],
      "metadata": {
        "id": "AzDBM_v4iMe7"
      }
    },
    {
      "cell_type": "code",
      "source": [
        "# No code solution (reading)"
      ],
      "metadata": {
        "id": "bGD0oD8Kizak"
      },
      "execution_count": null,
      "outputs": []
    },
    {
      "cell_type": "markdown",
      "source": [
        "### 2. Create a random tensor with shape `(7, 7)`.\n"
      ],
      "metadata": {
        "id": "__iXqqz-ioUJ"
      }
    },
    {
      "cell_type": "code",
      "source": [
        "# Import torch\n",
        "import torch\n",
        "\n",
        "# Create random tensor\n",
        "radom_tensor = torch.rand(size=(7,7))\n",
        "radom_tensor"
      ],
      "metadata": {
        "id": "6pUq9Dc8i2L7",
        "colab": {
          "base_uri": "https://localhost:8080/"
        },
        "outputId": "79ac230a-17e5-4b46-bec1-68acb65ceb89"
      },
      "execution_count": 3,
      "outputs": [
        {
          "output_type": "execute_result",
          "data": {
            "text/plain": [
              "tensor([[0.4326, 0.4010, 0.7565, 0.9055, 0.0690, 0.1624, 0.0277],\n",
              "        [0.5024, 0.5534, 0.8971, 0.3279, 0.1869, 0.5538, 0.0144],\n",
              "        [0.8956, 0.2462, 0.9581, 0.4128, 0.5174, 0.1935, 0.0108],\n",
              "        [0.1105, 0.8048, 0.8639, 0.7235, 0.0943, 0.8163, 0.2399],\n",
              "        [0.7347, 0.8039, 0.3389, 0.2409, 0.9753, 0.9352, 0.0879],\n",
              "        [0.8751, 0.7277, 0.2918, 0.3796, 0.7219, 0.1607, 0.0892],\n",
              "        [0.6504, 0.9169, 0.0814, 0.6531, 0.7846, 0.1111, 0.2695]])"
            ]
          },
          "metadata": {},
          "execution_count": 3
        }
      ]
    },
    {
      "cell_type": "markdown",
      "source": [
        "### 3. Perform a matrix multiplication on the tensor from 2 with another random tensor with shape `(1, 7)` (hint: you may have to transpose the second tensor)."
      ],
      "metadata": {
        "id": "9-XxvRLfiqkR"
      }
    },
    {
      "cell_type": "code",
      "source": [
        "# Create another random tensor\n",
        "radom_tensor2 = torch.rand(size=(1,7))\n",
        "# Perform matrix multiplication\n",
        "torch.matmul(radom_tensor, radom_tensor2.T)\n"
      ],
      "metadata": {
        "id": "NcLqR0Sbi_vT",
        "outputId": "557cf136-97fd-4552-aae8-3249f8f781fb",
        "colab": {
          "base_uri": "https://localhost:8080/"
        }
      },
      "execution_count": 4,
      "outputs": [
        {
          "output_type": "execute_result",
          "data": {
            "text/plain": [
              "tensor([[1.7691],\n",
              "        [1.6237],\n",
              "        [2.3120],\n",
              "        [1.5744],\n",
              "        [2.0646],\n",
              "        [1.9700],\n",
              "        [1.9222]])"
            ]
          },
          "metadata": {},
          "execution_count": 4
        }
      ]
    },
    {
      "cell_type": "markdown",
      "source": [
        "### 4. Set the random seed to `0` and do 2 & 3 over again.\n",
        "\n",
        "The output should be:\n",
        "```\n",
        "(tensor([[1.8542],\n",
        "         [1.9611],\n",
        "         [2.2884],\n",
        "         [3.0481],\n",
        "         [1.7067],\n",
        "         [2.5290],\n",
        "         [1.7989]]), torch.Size([7, 1]))\n",
        "```"
      ],
      "metadata": {
        "id": "eiutdKUFiryU"
      }
    },
    {
      "cell_type": "code",
      "source": [
        "# Set manual seed\n",
        "torch.manual_seed(0)\n",
        "\n",
        "# Create two random tensors\n",
        "radom_tensor = torch.rand(size=(7,7))\n",
        "radom_tensor2 = torch.rand(size=(1,7)).T\n",
        "# Matrix multiply tensors\n",
        "torch.matmul(radom_tensor, radom_tensor2)"
      ],
      "metadata": {
        "id": "D-lOWI_1jRMm",
        "outputId": "6e05c882-e651-4b6f-ef7c-668e2f1eb946",
        "colab": {
          "base_uri": "https://localhost:8080/"
        }
      },
      "execution_count": 6,
      "outputs": [
        {
          "output_type": "execute_result",
          "data": {
            "text/plain": [
              "tensor([[1.8542],\n",
              "        [1.9611],\n",
              "        [2.2884],\n",
              "        [3.0481],\n",
              "        [1.7067],\n",
              "        [2.5290],\n",
              "        [1.7989]])"
            ]
          },
          "metadata": {},
          "execution_count": 6
        }
      ]
    },
    {
      "cell_type": "markdown",
      "source": [
        "### 5. Speaking of random seeds, we saw how to set it with `torch.manual_seed()` but is there a GPU equivalent? (hint: you'll need to look into the documentation for `torch.cuda` for this one)\n",
        "  * If there is, set the GPU random seed to `1234`."
      ],
      "metadata": {
        "id": "ezY6ks9Cis37"
      }
    },
    {
      "cell_type": "code",
      "source": [
        "# Set random seed on the GPU\n",
        "torch.cuda.manual_seed(1234)\n"
      ],
      "metadata": {
        "id": "_LKWcfSTjp00"
      },
      "execution_count": 7,
      "outputs": []
    },
    {
      "cell_type": "markdown",
      "source": [
        "\n",
        "### 6. Create two random tensors of shape `(2, 3)` and send them both to the GPU (you'll need access to a GPU for this). Set `torch.manual_seed(1234)` when creating the tensors (this doesn't have to be the GPU random seed). The output should be something like:\n",
        "\n",
        "```\n",
        "Device: cuda\n",
        "(tensor([[0.0290, 0.4019, 0.2598],\n",
        "         [0.3666, 0.0583, 0.7006]], device='cuda:0'),\n",
        " tensor([[0.0518, 0.4681, 0.6738],\n",
        "         [0.3315, 0.7837, 0.5631]], device='cuda:0'))\n",
        "```"
      ],
      "metadata": {
        "id": "Ir9qSaj6it4n"
      }
    },
    {
      "cell_type": "code",
      "source": [
        "# Set random seed\n",
        "torch.cuda.manual_seed(1234)\n",
        "\n",
        "# Check for access to GPU\n",
        "\n",
        "# Create two random tensors on GPU\n",
        "torch.cuda.manual_seed(1234)\n",
        "radom_tensor = torch.rand(size=(2,3)).cuda()\n",
        "torch.cuda.manual_seed(1234)\n",
        "radom_tensor2 = torch.rand(size=(2,3)).cuda()\n",
        "radom_tensor, radom_tensor2\n"
      ],
      "metadata": {
        "id": "azXExiFZj5nm",
        "outputId": "71a439f4-b15b-487c-e511-434e1cbfd1ad",
        "colab": {
          "base_uri": "https://localhost:8080/"
        }
      },
      "execution_count": 9,
      "outputs": [
        {
          "output_type": "execute_result",
          "data": {
            "text/plain": [
              "(tensor([[0.8102, 0.9801, 0.1147],\n",
              "         [0.3168, 0.6965, 0.9143]], device='cuda:0'),\n",
              " tensor([[0.9351, 0.9412, 0.5995],\n",
              "         [0.0652, 0.5460, 0.1872]], device='cuda:0'))"
            ]
          },
          "metadata": {},
          "execution_count": 9
        }
      ]
    },
    {
      "cell_type": "markdown",
      "source": [
        "\n",
        "### 7. Perform a matrix multiplication on the tensors you created in 6 (again, you may have to adjust the shapes of one of the tensors).\n",
        "\n",
        "The output should look like:\n",
        "```\n",
        "(tensor([[0.3647, 0.4709],\n",
        "         [0.5184, 0.5617]], device='cuda:0'), torch.Size([2, 2]))\n",
        "```"
      ],
      "metadata": {
        "id": "5TlAxeiSiu1y"
      }
    },
    {
      "cell_type": "code",
      "source": [
        "# Perform matmul on tensor_A and tensor_B\n",
        "matmul = radom_tensor @ radom_tensor2.T\n",
        "matmul"
      ],
      "metadata": {
        "id": "fAeG7ox0lHEO",
        "outputId": "58192dcc-8392-4d07-ac2a-2bc5e478dd81",
        "colab": {
          "base_uri": "https://localhost:8080/"
        }
      },
      "execution_count": 12,
      "outputs": [
        {
          "output_type": "execute_result",
          "data": {
            "text/plain": [
              "tensor([[1.7488, 0.6094],\n",
              "        [1.4999, 0.5721]], device='cuda:0')"
            ]
          },
          "metadata": {},
          "execution_count": 12
        }
      ]
    },
    {
      "cell_type": "markdown",
      "source": [
        "### 8. Find the maximum and minimum values of the output of 7."
      ],
      "metadata": {
        "id": "G7qfa5CSivwg"
      }
    },
    {
      "cell_type": "code",
      "source": [
        "# Find max\n",
        "print(torch.max(matmul))\n",
        "# Find min\n",
        "torch.min(matmul)"
      ],
      "metadata": {
        "id": "Fu8_3mZpllOd",
        "outputId": "eecdffbb-4d47-417a-9024-d06fb93150a8",
        "colab": {
          "base_uri": "https://localhost:8080/"
        }
      },
      "execution_count": 14,
      "outputs": [
        {
          "output_type": "stream",
          "name": "stdout",
          "text": [
            "tensor(1.7488, device='cuda:0')\n"
          ]
        },
        {
          "output_type": "execute_result",
          "data": {
            "text/plain": [
              "tensor(0.5721, device='cuda:0')"
            ]
          },
          "metadata": {},
          "execution_count": 14
        }
      ]
    },
    {
      "cell_type": "markdown",
      "source": [
        "### 9. Find the maximum and minimum index values of the output of 7."
      ],
      "metadata": {
        "id": "wrTj5FgNiw47"
      }
    },
    {
      "cell_type": "code",
      "source": [
        "# Find arg max\n",
        "\n",
        "print(torch.argmax(matmul))\n",
        "# Find arg min\n",
        "print(torch.argmin(matmul))"
      ],
      "metadata": {
        "id": "CCEKt4K2lsfQ",
        "outputId": "3721dc1a-854f-4773-8ac6-3c9d52a26187",
        "colab": {
          "base_uri": "https://localhost:8080/"
        }
      },
      "execution_count": 16,
      "outputs": [
        {
          "output_type": "stream",
          "name": "stdout",
          "text": [
            "tensor(0, device='cuda:0')\n",
            "tensor(3, device='cuda:0')\n"
          ]
        }
      ]
    },
    {
      "cell_type": "markdown",
      "source": [
        "\n",
        "### 10. Make a random tensor with shape `(1, 1, 1, 10)` and then create a new tensor with all the `1` dimensions removed to be left with a tensor of shape `(10)`. Set the seed to `7` when you create it and print out the first tensor and it's shape as well as the second tensor and it's shape.\n",
        "\n",
        "The output should look like:\n",
        "\n",
        "```\n",
        "tensor([[[[0.5349, 0.1988, 0.6592, 0.6569, 0.2328, 0.4251, 0.2071, 0.6297,\n",
        "           0.3653, 0.8513]]]]) torch.Size([1, 1, 1, 10])\n",
        "tensor([0.5349, 0.1988, 0.6592, 0.6569, 0.2328, 0.4251, 0.2071, 0.6297, 0.3653,\n",
        "        0.8513]) torch.Size([10])\n",
        "```"
      ],
      "metadata": {
        "id": "hmeybz4uixy7"
      }
    },
    {
      "cell_type": "code",
      "source": [
        "# Set seed\n",
        "\n",
        "torch.manual_seed(7)\n",
        "\n",
        "# Create random tensor\n",
        "rand_tensor = torch.rand(size=(1,1,1,10))\n",
        "\n",
        "# Remove single dimensions\n",
        "sequeezed_tensor = torch.squeeze(rand_tensor)\n",
        "\n",
        "# Print out tensors and their shapes\n",
        "print(\"Tensor:\", radom_tensor)\n",
        "print(\"Shape:\", radom_tensor.shape)\n",
        "print(\"Squeezed Tensor:\", sequeezed_tensor)\n",
        "print(\"Shape:\", sequeezed_tensor.shape)"
      ],
      "metadata": {
        "id": "TQ9zbRzVl1jV",
        "colab": {
          "base_uri": "https://localhost:8080/"
        },
        "outputId": "a9b95f3a-48a9-431d-e06b-caf3b8a9e8ba"
      },
      "execution_count": 21,
      "outputs": [
        {
          "output_type": "stream",
          "name": "stdout",
          "text": [
            "Tensor: tensor([[0.8102, 0.9801, 0.1147],\n",
            "        [0.3168, 0.6965, 0.9143]], device='cuda:0')\n",
            "Shape: torch.Size([2, 3])\n",
            "Squeezed Tensor: tensor([0.5349, 0.1988, 0.6592, 0.6569, 0.2328, 0.4251, 0.2071, 0.6297, 0.3653,\n",
            "        0.8513])\n",
            "Shape: torch.Size([10])\n"
          ]
        }
      ]
    }
  ]
}